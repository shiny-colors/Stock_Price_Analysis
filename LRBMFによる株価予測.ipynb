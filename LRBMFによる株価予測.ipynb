{
 "cells": [
  {
   "cell_type": "code",
   "execution_count": null,
   "metadata": {},
   "outputs": [],
   "source": [
    "####応答変数の設定検討####\n",
    "import numpy as np\n",
    "import pandas as pd\n",
    "import matplotlib.pyplot  as plt\n",
    "import matplotlib\n",
    "import numpy.matlib\n",
    "import scipy.linalg\n",
    "import itertools\n",
    "from scipy.stats import norm  \n",
    "from scipy import sparse\n",
    "from pandas.tools.plotting import scatter_matrix\n",
    "from numpy.random import *\n",
    "from scipy import optimize\n",
    "import sys\n",
    "\n",
    "#np.random.seed(98537)"
   ]
  },
  {
   "cell_type": "code",
   "execution_count": null,
   "metadata": {},
   "outputs": [],
   "source": [
    "##データの読み込み\n",
    "panel_data = pd.read_csv(\"D:/Statistics/data/stock_price/stock_panel_data.csv\", index_col=0)\n",
    "company_info = pd.read_csv(\"D:/Statistics/data/stock_price/st-jp/company_info.csv\")\n",
    "date_range = [np.min(panel_data[\"日付\"]), np.max(panel_data[\"日付\"])]"
   ]
  },
  {
   "cell_type": "code",
   "execution_count": null,
   "metadata": {},
   "outputs": [],
   "source": [
    "#データを絞る\n",
    "new_panel = panel_data.iloc[np.array([panel_data[\"日付\"] > \"2010/01/01\"]).reshape(-1)]\n",
    "new_panel.index = np.arange(new_panel.shape[0])\n",
    "N = new_panel.shape[0]\n",
    "N"
   ]
  },
  {
   "cell_type": "code",
   "execution_count": null,
   "metadata": {},
   "outputs": [],
   "source": [
    "#データの設定\n",
    "price = np.array(new_panel[\"終値\"])\n",
    "code = np.array(new_panel[\"コード\"], dtype=\"int\")\n",
    "reference_id = np.array(new_panel[\"reference_id\"], dtype=\"int\")\n",
    "n = np.unique(reference_id).shape[0]"
   ]
  },
  {
   "cell_type": "code",
   "execution_count": null,
   "metadata": {
    "scrolled": true
   },
   "outputs": [],
   "source": [
    "#インデックスを作成\n",
    "index_list = [i for i in range(n)]\n",
    "no_list = [i for i in range(n)]\n",
    "max_index = np.repeat(0, n)\n",
    "for i in range(n):\n",
    "    if i%100==0:\n",
    "        print(i)\n",
    "    index_list[i] = np.array(np.where(reference_id==i)[0], dtype=\"int\")\n",
    "    no_list[i] = np.arange(index_list[i].shape[0])\n",
    "    max_index[i] = np.max(index_list[i])\n",
    "    \n",
    "#リストを変換\n",
    "no = np.array(list(itertools.chain(*[np.array(no_list[i]) for i in range(n)])))"
   ]
  },
  {
   "cell_type": "code",
   "execution_count": null,
   "metadata": {},
   "outputs": [],
   "source": [
    "##株価の終値の変動率を算出\n",
    "#差分を算出するためのインデックス\n",
    "index_t1 = np.where(no==0)[0]\n",
    "index_previous = np.array(np.delete(np.arange(N), max_index), dtype=\"int\")\n",
    "index_behind = np.array(np.delete(np.arange(N), index_t1), dtype=\"int\")"
   ]
  },
  {
   "cell_type": "code",
   "execution_count": null,
   "metadata": {},
   "outputs": [],
   "source": [
    "#変化率を取得\n",
    "diff_price = np.repeat(0.0, N)\n",
    "diff_price[index_behind] = price[index_behind] / price[index_previous]"
   ]
  },
  {
   "cell_type": "code",
   "execution_count": null,
   "metadata": {},
   "outputs": [],
   "source": [
    "#データフレームに変換\n",
    "df = pd.concat([new_panel[[\"reference_id\", \"コード\", \"銘柄名\", \"業種\", \"日付\", \"終値\", \"出来高\"]],\n",
    "                pd.DataFrame({\"diff\": diff_price})], axis=1)\n",
    "out = \"D:/Statistics/data/stock_price/stock_price_diff.csv\"\n",
    "df.to_csv(out, sep=\",\")"
   ]
  },
  {
   "cell_type": "code",
   "execution_count": null,
   "metadata": {},
   "outputs": [],
   "source": [
    "#分布を可視化\n",
    "mu = np.mean(np.abs(diff_price[index_behind] - 1.0))\n",
    "sd = np.std(np.abs(diff_price[index_behind] - 1.0)) \n",
    "fig = plt.figure(figsize=(15.0, 15.0), dpi=50)\n",
    "plt.subplots_adjust(wspace=0.2, hspace=0.3)   #余白を設定\n",
    "ax = fig.add_subplot(2, 2, 1)\n",
    "ax.hist(diff_price[index_behind] - 1.0, range=(-0.25, 0.25), bins=50)   #変化率のヒストグラム\n",
    "plt.title(\"株価の変化率の分布\", fontsize=17.5)\n",
    "ax = fig.add_subplot(2, 2, 2)\n",
    "ax.hist(np.random.normal(mu, sd, N), range=(-0.25, 0.25), bins=50)\n",
    "plt.title(\"理論値での正規分布\", fontsize=17.5)"
   ]
  },
  {
   "cell_type": "code",
   "execution_count": null,
   "metadata": {},
   "outputs": [],
   "source": [
    "#外れ値を探す\n",
    "print(index_behind.shape[0])\n",
    "print(np.sum(np.abs(diff_price[index_behind]) > 2.0))\n",
    "print(np.sum(np.abs(diff_price[index_behind]) > 1.75))\n",
    "print(np.sum(np.abs(diff_price[index_behind]) > 1.5))\n",
    "print(np.sum(np.abs(diff_price[index_behind]) > 1.035))\n",
    "print(np.mean(np.abs(diff_price[index_behind] - 1.0)))\n",
    "print(np.std(np.abs(diff_price[index_behind] - 1.0)))"
   ]
  },
  {
   "cell_type": "code",
   "execution_count": null,
   "metadata": {},
   "outputs": [],
   "source": [
    "#グループごとの集計値の可視化\n",
    "new_df = df.iloc[index_behind]\n",
    "new_df[\"diff\"] = np.array(new_df[\"diff\"]) - 1.0\n",
    "N = new_df.shape[0]\n",
    "new_df.index = np.arange(N)\n",
    "grouped = new_df.groupby(\"銘柄名\")\n",
    "\n",
    "#企業毎の集計値をヒストグラムにする\n",
    "fig = plt.figure(figsize=(15.0, 15.0), dpi=50)\n",
    "plt.subplots_adjust(wspace=0.2, hspace=0.3)   #余白を設定\n",
    "ax = fig.add_subplot(2, 2, 1)\n",
    "ax.hist(np.array(grouped[[\"diff\"]].mean()).reshape(-1), range=(-0.2, 0.2), bins=50)\n",
    "plt.title(\"企業毎の株価変化率の平均分布\", fontsize=17.5)\n",
    "ax = fig.add_subplot(2, 2, 2)\n",
    "ax.hist(np.array(grouped[[\"diff\"]].std()).reshape(-1), range=(0, 0.15), bins=50)\n",
    "plt.title(\"企業毎の株価変化率の標準偏差分布\", fontsize=17.5)"
   ]
  },
  {
   "cell_type": "code",
   "execution_count": null,
   "metadata": {},
   "outputs": [],
   "source": [
    "#データの設定\n",
    "code = np.array(new_df[\"コード\"], dtype=\"int\")\n",
    "reference_id = np.array(new_df[\"reference_id\"], dtype=\"int\")\n",
    "n1 = np.unique(reference_id).shape[0]"
   ]
  },
  {
   "cell_type": "code",
   "execution_count": null,
   "metadata": {
    "scrolled": true
   },
   "outputs": [],
   "source": [
    "#企業のインデックスを作成\n",
    "index_list1 = [i for i in range(n1)]\n",
    "no_list1 = [i for i in range(n1)]\n",
    "max_index1 = np.repeat(0, n1)\n",
    "for i in range(n1):\n",
    "    index_list1[i] = np.array(np.where(reference_id==i)[0], dtype=\"int\")\n",
    "    no_list1[i] = np.arange(index_list1[i].shape[0])\n",
    "    max_index1[i] = np.max(index_list1[i])\n",
    "    \n",
    "#リストを変換\n",
    "no1 = np.array(list(itertools.chain(*[np.array(no_list1[i]) for i in range(n1)])))"
   ]
  },
  {
   "cell_type": "code",
   "execution_count": null,
   "metadata": {},
   "outputs": [],
   "source": [
    "##データの加工\n",
    "#時系列成分を加工\n",
    "unique_date = pd.unique(new_df[\"日付\"])\n",
    "n2 = unique_date.shape[0]\n",
    "day_df = pd.DataFrame({\"day_id\": np.arange(n2), \"日付\": unique_date})\n",
    "day_id = np.array(pd.merge(new_df, day_df, on=\"日付\", how=\"left\")[\"day_id\"])"
   ]
  },
  {
   "cell_type": "code",
   "execution_count": null,
   "metadata": {},
   "outputs": [],
   "source": [
    "#日付のインデックスを作成\n",
    "index_list2 = [i for i in range(n2)]\n",
    "no_list2 = [i for i in range(n2)]\n",
    "max_index2 = np.repeat(0, n2)\n",
    "for i in range(n2):\n",
    "    index_list2[i] = np.array(np.where(day_id==i)[0], dtype=\"int\")\n",
    "    no_list2[i] = np.arange(index_list2[i].shape[0])\n",
    "    max_index2[i] = np.max(index_list2[i])\n",
    "    \n",
    "#リストを変換\n",
    "no2 = np.array(list(itertools.chain(*[np.array(no_list2[i]) for i in range(n2)])))"
   ]
  },
  {
   "cell_type": "code",
   "execution_count": null,
   "metadata": {},
   "outputs": [],
   "source": [
    "#自己回帰成分を抽出\n",
    "y = np.array(new_df[\"diff\"])\n",
    "x = np.zeros((N, 2))\n",
    "index_a = np.delete(np.arange(N), max_index1)\n",
    "x[:, 0] = np.repeat(1.0, N)\n",
    "x[index_a+1, 1] = y[index_a]\n",
    "x_col = x.shape[1]"
   ]
  },
  {
   "cell_type": "code",
   "execution_count": null,
   "metadata": {},
   "outputs": [],
   "source": [
    "####マルコフ連鎖モンテカルロ法でパラメータを推定####\n",
    "##アルゴリズムの設定\n",
    "k = 10\n",
    "LL1 = -100000000   #対数尤度の初期値\n",
    "R = 2000\n",
    "keep = 2  \n",
    "iter = 0\n",
    "burnin = 500/keep\n",
    "disp = 10"
   ]
  },
  {
   "cell_type": "code",
   "execution_count": null,
   "metadata": {},
   "outputs": [],
   "source": [
    "##データの定数\n",
    "x1_list = [i for i in range(n1)]\n",
    "x2_list = [i for i in range(n2)]\n",
    "xx1_list = [i for i in range(n1)]\n",
    "xx2_list = [i for i in range(n2)]\n",
    "for i in range(n1):\n",
    "    x1_list[i] = x[index_list1[i], ]\n",
    "    xx1_list[i] = np.dot(x1_list[i].T, x1_list[i])\n",
    "for i in range(n2):\n",
    "    x2_list[i] = x[index_list2[i], ]\n",
    "    xx2_list[i] = np.dot(x2_list[i].T, x2_list[i])"
   ]
  },
  {
   "cell_type": "code",
   "execution_count": null,
   "metadata": {},
   "outputs": [],
   "source": [
    "##事前分布の設定\n",
    "#階層モデルの事前分布\n",
    "delta = np.repeat(0, k)\n",
    "nu = 1\n",
    "V = 0.1 * np.diag(np.ones(k))\n",
    "s0 = 0.1; v0 = 0.1\n",
    "\n",
    "#素性ベクトルの事前分布\n",
    "Lambda = np.repeat(0, x_col) \n",
    "kappa = np.diag(np.repeat(100, x_col))\n",
    "inv_kappa = np.linalg.inv(kappa)"
   ]
  },
  {
   "cell_type": "code",
   "execution_count": null,
   "metadata": {},
   "outputs": [],
   "source": [
    "##初期値の設定\n",
    "#階層モデルの初期値\n",
    "alpha1 = np.repeat(0, x_col)\n",
    "alpha2 = np.repeat(0, x_col)\n",
    "tau1 = np.diag(np.repeat(0.25, x_col))\n",
    "tau2 = np.diag(np.repeat(0.25, x_col))\n",
    "inv_tau1 = np.linalg.inv(tau1)\n",
    "inv_tau2 = np.linalg.inv(tau1)\n",
    "Cov1 = np.diag(np.repeat(0.25, k))\n",
    "Cov2 = np.diag(np.repeat(0.25, k))\n",
    "inv_Cov1 = np.linalg.inv(Cov1)\n",
    "inv_Cov2 = np.linalg.inv(Cov2)\n",
    "\n",
    "#モデルパラメータの初期値\n",
    "beta1 = np.random.multivariate_normal(alpha1, tau1, n1)\n",
    "beta2 = np.random.multivariate_normal(alpha2, tau2, n2)\n",
    "theta1 = np.random.multivariate_normal(np.repeat(0, k), Cov1, n1)\n",
    "theta2 = np.random.multivariate_normal(np.repeat(0, k), Cov2, n2)\n",
    "Sigma = 0.1"
   ]
  },
  {
   "cell_type": "code",
   "execution_count": null,
   "metadata": {},
   "outputs": [],
   "source": [
    "##対数尤度の基準値\n",
    "#1パラメータモデルでの対数尤度\n",
    "LLst = np.sum(scipy.stats.norm.logpdf(y, np.mean(y), np.std(y)))\n",
    "print(LLst)\n",
    "\n",
    "#対数尤度の初期値\n",
    "x_vec = np.repeat(1.0, x_col)\n",
    "k_vec = np.repeat(1.0, k)\n",
    "beta_vec1 = np.dot(x * beta1[reference_id, ], x_vec)\n",
    "beta_vec2 = np.dot(x * beta2[day_id, ], x_vec)\n",
    "WH = np.dot(theta1[reference_id, ] * theta2[day_id, ], k_vec)\n",
    "mu = beta_vec1 + beta_vec2 + WH\n",
    "sd = np.sum(np.power(y - mu, 2)) / N\n",
    "LL = np.sum(scipy.stats.norm.logpdf(y, mu, sd))\n",
    "print(LL)"
   ]
  },
  {
   "cell_type": "code",
   "execution_count": null,
   "metadata": {
    "scrolled": true
   },
   "outputs": [],
   "source": [
    "####ギブスサンプリングでパラメータをサンプリング####\n",
    "for rp in range(R):\n",
    "    ##beta1をサンプリング\n",
    "    #モデル誤差を設定\n",
    "    er = y - beta_vec2 - WH\n",
    "\n",
    "    for i in range(n1):\n",
    "        #多変量正規分布のパラメータを設定\n",
    "        index = index_list1[i]\n",
    "        x1 = x1_list[i]; xx1 = xx1_list[i]\n",
    "        xy = np.dot(x1.T, er[index])\n",
    "        xxv = xx1 + inv_tau1\n",
    "        inv_xxv = np.linalg.inv(xxv)\n",
    "        beta_par = np.dot(inv_xxv, xy + np.dot(inv_tau1, alpha1))\n",
    "\n",
    "        #多変量正規分布から回帰ベクトルをサンプリング\n",
    "        beta1[i, ] = np.random.multivariate_normal(beta_par, np.power(Sigma, 2)*inv_xxv, 1).reshape(-1)\n",
    "    beta_vec1 = np.dot(x * beta1[reference_id, ], x_vec)\n",
    "\n",
    "    ##beta2をサンプリング\n",
    "    #モデル誤差を設定\n",
    "    er = y - beta_vec1 - WH\n",
    "\n",
    "    for i in range(n2):\n",
    "        #多変量正規分布のパラメータを設定\n",
    "        index = index_list2[i]\n",
    "        x2 = x2_list[i]; xx2 = xx2_list[i]\n",
    "        xy = np.dot(x2.T, er[index])\n",
    "        xxv = xx2 + inv_tau2\n",
    "        inv_xxv = np.linalg.inv(xxv)\n",
    "        beta_par = np.dot(inv_xxv, xy + np.dot(inv_tau2, alpha2))\n",
    "\n",
    "        #多変量正規分布から回帰ベクトルをサンプリング\n",
    "        beta2[i, ] = np.random.multivariate_normal(beta_par, np.power(Sigma, 2)*inv_xxv, 1).reshape(-1)\n",
    "    beta_vec2 = np.dot(x * beta2[day_id, ], x_vec)\n",
    "\n",
    "    ##theta1をサンプリング\n",
    "    #モデル誤差を設定\n",
    "    er = y - beta_vec1 - beta_vec2\n",
    "\n",
    "    for i in range(n1):\n",
    "        #多変量正規分布のパラメータを設定\n",
    "        index = index_list1[i]\n",
    "        x1 = theta2[day_id[index], ]\n",
    "        xy = np.dot(x1.T, er[index])\n",
    "        xxv = np.dot(x1.T, x1) + inv_Cov1\n",
    "        inv_xxv = np.linalg.inv(xxv)\n",
    "        theta_par = np.dot(inv_xxv, xy + np.dot(inv_Cov1, np.repeat(0, k)))\n",
    "\n",
    "        #多変量正規分布から回帰ベクトルをサンプリング\n",
    "        theta1[i, ] = np.random.multivariate_normal(theta_par, np.power(Sigma, 2)*inv_xxv, 1).reshape(-1)\n",
    "\n",
    "    ##theta2をサンプリング\n",
    "    for i in range(n2):\n",
    "        #多変量正規分布のパラメータを設定\n",
    "        index =index_list2[i]\n",
    "        x2 = theta1[reference_id[index], ]\n",
    "        xy = np.dot(x2.T, er[index])\n",
    "        xxv = np.dot(x2.T, x2) + inv_Cov2\n",
    "        inv_xxv = np.linalg.inv(xxv)\n",
    "        theta_par = np.dot(inv_xxv, xy + np.dot(inv_Cov2, np.repeat(0, k)))\n",
    "\n",
    "        #多変量正規分布から回帰ベクトルをサンプリング\n",
    "        theta2[i, ] = np.random.multivariate_normal(theta_par, np.power(Sigma, 2)*inv_xxv, 1).reshape(-1)\n",
    "    WH = np.dot(theta1[reference_id, ] * theta2[day_id, ], k_vec)\n",
    "\n",
    "\n",
    "    ##モデルの標準偏差を推定\n",
    "    mu = beta_vec1 + beta_vec2 + WH\n",
    "    er = y - mu\n",
    "    Sigma = np.sum(np.power(er, 2)) / N\n",
    "\n",
    "    ##サンプリング結果の格納と表示\n",
    "    #サンプリング結果の格納\n",
    "    if rp%keep==0:\n",
    "        mkeep = int(rp/keep)\n",
    "\n",
    "        if rp%disp==0:\n",
    "            #サンプリング結果を表示\n",
    "            print(rp)\n",
    "            print(np.round(np.array([np.sum(np.power(y - mu, 2)), np.sum(np.power(y - np.mean(y), 2))]), 1))\n",
    "            print(np.round(np.append(alpha1, alpha2), 3))"
   ]
  },
  {
   "cell_type": "code",
   "execution_count": null,
   "metadata": {},
   "outputs": [],
   "source": [
    "##階層モデルのパラメータを推定\n",
    "#ランダム効果の階層モデルのパラメータ\n",
    "alpha1 = np.mean(beta1, axis=0); alpha2 = np.mean(beta2, axis=0)\n",
    "er1 = beta1 - np.full((n1, x_col), alpha1); er2 = beta2 - np.full((n2, x_col), alpha2)\n",
    "tau1 = np.dot(er1.T, er1) / n1; tau2 = np.dot(er2.T, er2) / n2\n",
    "inv_tau1 = np.linalg.inv(tau1); inv_tau2 = np.linalg.inv(tau1)\n",
    "\n",
    "#特徴ベクトルの階層モデルのパラメータ\n",
    "er1 = theta1 - np.full((n1, k), np.mean(theta1, axis=0))\n",
    "er2 = theta2 - np.full((n2, k), np.mean(theta2, axis=0))\n",
    "Cov1 = np.dot(er1.T, er1) / n1; Cov2 = np.dot(er2.T, er2) / n2\n",
    "inv_Cov1 = np.linalg.inv(Cov1); inv_Cov2 = np.linalg.inv(Cov2)"
   ]
  },
  {
   "cell_type": "code",
   "execution_count": null,
   "metadata": {},
   "outputs": [],
   "source": [
    "y"
   ]
  },
  {
   "cell_type": "code",
   "execution_count": null,
   "metadata": {},
   "outputs": [],
   "source": []
  }
 ],
 "metadata": {
  "kernelspec": {
   "display_name": "Python 3",
   "language": "python",
   "name": "python3"
  },
  "language_info": {
   "codemirror_mode": {
    "name": "ipython",
    "version": 3
   },
   "file_extension": ".py",
   "mimetype": "text/x-python",
   "name": "python",
   "nbconvert_exporter": "python",
   "pygments_lexer": "ipython3",
   "version": "3.6.5"
  }
 },
 "nbformat": 4,
 "nbformat_minor": 2
}
