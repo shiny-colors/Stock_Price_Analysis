{
 "cells": [
  {
   "cell_type": "code",
   "execution_count": 62,
   "metadata": {},
   "outputs": [],
   "source": [
    "####yahooファイナンスから株価を取得####\n",
    "from selenium import webdriver\n",
    "from selenium.webdriver.common.keys import Keys\n",
    "from selenium.common.exceptions import NoSuchElementException\n",
    "import requests\n",
    "from urllib.request import urlopen\n",
    "import pandas as pd\n",
    "import numpy as np\n",
    "import time\n",
    "import itertools"
   ]
  },
  {
   "cell_type": "code",
   "execution_count": 63,
   "metadata": {},
   "outputs": [],
   "source": [
    "##urlにログインする関数\n",
    "def url_login(browser, url, login, password):\n",
    "    #yahooログインページにアクセス\n",
    "    browser.get(url)   \n",
    "\n",
    "    #yahooにログインする\n",
    "    browser.find_element_by_id(\"username\").send_keys(login)\n",
    "    browser.find_element_by_id('btnNext').send_keys(Keys.ENTER)\n",
    "    time.sleep(1.0)   #ブラウザの描写が完了させるためにsleep\n",
    "    browser.find_element_by_id(\"passwd\").send_keys(password)\n",
    "    browser.find_element_by_id(\"btnSubmit\").send_keys(Keys.ENTER)"
   ]
  },
  {
   "cell_type": "code",
   "execution_count": 68,
   "metadata": {},
   "outputs": [],
   "source": [
    "##アクセスするurlを作成\n",
    "def url_setting(input_path):\n",
    "    #企業情報を読み込み\n",
    "    company_info = pd.read_csv(input_path, index_col=0)\n",
    "    company_info = company_info.iloc[np.array(company_info[\"業種\"]!=\"ETF\")]\n",
    "    company_info.index = np.arange(company_info.shape[0])\n",
    "    s_code = np.array(company_info[\"コード\"])\n",
    "\n",
    "    #URLを作成\n",
    "    url = [i for i in range(s_code.shape[0])]\n",
    "    for i in range(s_code.shape[0]):\n",
    "        input_url = \"https://download.finance.yahoo.co.jp/common/history/{code}.T.csv\"\n",
    "        url[i] = input_url.format(code=s_code[i])\n",
    "    return url"
   ]
  },
  {
   "cell_type": "code",
   "execution_count": 65,
   "metadata": {},
   "outputs": [],
   "source": [
    "#URLを設定\n",
    "browser = webdriver.Firefox()\n",
    "url = \"https://login.yahoo.co.jp/config/login\"\n",
    "login = \"\"\n",
    "password = \"\"\n",
    "url_login(browser, url, login, password)"
   ]
  },
  {
   "cell_type": "code",
   "execution_count": 69,
   "metadata": {},
   "outputs": [],
   "source": [
    "#urlを設定\n",
    "path = \"D:/Statistics/data/stock_price/st-jp/company_info.csv\"\n",
    "url_list = url_setting(path)"
   ]
  },
  {
   "cell_type": "code",
   "execution_count": null,
   "metadata": {},
   "outputs": [],
   "source": [
    "browser.get(url_list[0])"
   ]
  },
  {
   "cell_type": "code",
   "execution_count": null,
   "metadata": {},
   "outputs": [],
   "source": []
  }
 ],
 "metadata": {
  "kernelspec": {
   "display_name": "Python 3",
   "language": "python",
   "name": "python3"
  },
  "language_info": {
   "codemirror_mode": {
    "name": "ipython",
    "version": 3
   },
   "file_extension": ".py",
   "mimetype": "text/x-python",
   "name": "python",
   "nbconvert_exporter": "python",
   "pygments_lexer": "ipython3",
   "version": "3.6.5"
  }
 },
 "nbformat": 4,
 "nbformat_minor": 2
}
