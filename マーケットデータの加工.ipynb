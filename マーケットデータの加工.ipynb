{
 "cells": [
  {
   "cell_type": "code",
   "execution_count": 1,
   "metadata": {},
   "outputs": [],
   "source": [
    "####日付を西暦に変更####\n",
    "import numpy as np\n",
    "import pandas as pd\n",
    "import itertools\n",
    "\n",
    "#np.random.seed(98537)"
   ]
  },
  {
   "cell_type": "code",
   "execution_count": 2,
   "metadata": {},
   "outputs": [],
   "source": [
    "##国債金利の和暦を西暦に変換\n",
    "#データの読み込み\n",
    "input_path = \"C:/statistics/data/market_data/original_data/jp_interest_rate.csv\"\n",
    "read_data = pd.read_csv(input_path, encoding=\"SHIFT-JIS\") \n",
    "\n",
    "#和暦と西暦を対応付ける\n",
    "wareki = pd.unique(read_data[\"date\"].str[:3])\n",
    "target_seireki = np.array(range(1974, 2020))\n",
    "seireki = np.repeat(0, wareki.shape[0])\n",
    "seireki[wareki==\"S64\"] = 1989\n",
    "seireki[wareki!=\"S64\"] = target_seireki\n",
    "read_data[\"wareki\"] = read_data[\"date\"].str[0:3]\n",
    "\n",
    "#dateを作成\n",
    "temp = read_data[\"date\"].str.split(\".\")\n",
    "joint_date = np.array(np.repeat(\"\", temp.shape[0]), dtype=\"U4\")\n",
    "for i in range(temp.shape[0]):\n",
    "    for j in range(1, 3):\n",
    "        if len(temp[i][j])==1:\n",
    "            temp[i][j] = \"0\" + temp[i][j]\n",
    "    joint_date[i] = temp[i][1] + temp[i][2]\n",
    "\n",
    "#データフレームを調整\n",
    "target = pd.DataFrame({\"wareki\": wareki, \"year\": seireki})\n",
    "get_data = pd.merge(read_data, target, on=\"wareki\", how=\"left\")\n",
    "get_data[\"date\"] = get_data[\"year\"].astype(\"str\") + joint_date\n",
    "get_data[\"date\"] = get_data[\"date\"].str.replace(\".\", \"\").astype(\"int\")\n",
    "get_data = get_data[[\"date\", \"1年\", \"2年\", \"3年\", \"4年\", \"5年\", \"6年\", \"7年\", \"8年\", \"9年\", \"10年\", \"15年\", \"20年\",\n",
    "                     \"25年\", \"30年\", \"40年\"]]\n",
    "get_data.columns = [\"date\", \"1year\", \"2year\", \"3year\", \"4year\", \"5year\", \"6year\", \"7year\", \"8year\", \"9year\", \"10year\",\n",
    "                     \"15year\", \"20year\", \"25year\", \"30year\", \"40year\"]\n",
    "\n",
    "#データを書き出し\n",
    "out = \"C:/statistics/data/market_data/jp_interest_rate.csv\"\n",
    "get_data.to_csv(out, index=None)"
   ]
  },
  {
   "cell_type": "code",
   "execution_count": 3,
   "metadata": {},
   "outputs": [],
   "source": [
    "##短期金利の西暦をint型に変更\n",
    "#データの読み込み\n",
    "input_path = \"C:/statistics/data/market_data/original_data/jp_call_rate.csv\"\n",
    "read_data = pd.read_csv(input_path, encoding=\"SHIFT-JIS\") \n",
    "\n",
    "#dateを作成\n",
    "temp = read_data[\"date\"].str.split(\"/\")\n",
    "joint_date = np.array(np.repeat(\"\", temp.shape[0]), dtype=\"U4\")\n",
    "for i in range(temp.shape[0]):\n",
    "    for j in range(1, 3):\n",
    "        if len(temp[i][j])==1:\n",
    "            temp[i][j] = \"0\" + temp[i][j]\n",
    "    joint_date[i] = temp[i][1] + temp[i][2]\n",
    "\n",
    "#データの書き出し\n",
    "read_data[\"date\"] = (read_data[\"date\"].str[:4] + joint_date).astype(\"int\")\n",
    "\n",
    "#データを書き出し\n",
    "out = \"C:/statistics/data/market_data/jp_call_rate.csv\"\n",
    "read_data.to_csv(out, index=None)"
   ]
  },
  {
   "cell_type": "code",
   "execution_count": 4,
   "metadata": {},
   "outputs": [],
   "source": [
    "##為替レートの西暦をint型に変更\n",
    "#データの読み込み\n",
    "input_path = \"C:/statistics/data/market_data/original_data/exchange_rate.csv\"\n",
    "read_data = pd.read_csv(input_path, encoding=\"SHIFT-JIS\") \n",
    "\n",
    "#dateを作成\n",
    "temp = read_data[\"Unnamed: 0\"].str.split(\"/\")\n",
    "joint_date = np.array(np.repeat(\"\", temp.shape[0]), dtype=\"U4\")\n",
    "for i in range(temp.shape[0]):\n",
    "    for j in range(1, 3):\n",
    "        if len(temp[i][j])==1:\n",
    "            temp[i][j] = \"0\" + temp[i][j]\n",
    "    joint_date[i] = temp[i][1] + temp[i][2]\n",
    "\n",
    "#int型に変換\n",
    "read_data[\"Unnamed: 0\"] = (read_data[\"Unnamed: 0\"].str[:4] + joint_date).astype(\"int\")\n",
    "read_data = read_data.rename(columns={\"Unnamed: 0\": \"date\"})\n",
    "\n",
    "#データを書き出し\n",
    "out = \"C:/statistics/data/market_data/exchange_rate.csv\"\n",
    "read_data.to_csv(out, index=None)"
   ]
  },
  {
   "cell_type": "code",
   "execution_count": 5,
   "metadata": {},
   "outputs": [],
   "source": [
    "##FF金利の西暦をint型に変更\n",
    "#データの読み込み\n",
    "input_path = \"C:/statistics/data/market_data/original_data/fed_fund_rate.csv\"\n",
    "read_data = pd.read_csv(input_path)\n",
    "\n",
    "#dateを作成\n",
    "temp = read_data[\"date\"].str.split(\"/\")\n",
    "joint_date = np.array(np.repeat(\"\", temp.shape[0]), dtype=\"U4\")\n",
    "for i in range(temp.shape[0]):\n",
    "    for j in range(1, 3):\n",
    "        if len(temp[i][j])==1:\n",
    "            temp[i][j] = \"0\" + temp[i][j]\n",
    "    joint_date[i] = temp[i][1] + temp[i][2]\n",
    "\n",
    "#データの書き出し\n",
    "read_data[\"date\"] = (read_data[\"date\"].str[:4] + joint_date).astype(\"int\")\n",
    "read_data.columns = [\"date\", \"value\"]\n",
    "\n",
    "#データを書き出し\n",
    "out = \"C:/statistics/data/market_data/fed_fund_rate.csv\"\n",
    "read_data.to_csv(out, index=None)"
   ]
  },
  {
   "cell_type": "code",
   "execution_count": 6,
   "metadata": {},
   "outputs": [],
   "source": [
    "##米国長期金利の西暦をint型に変更\n",
    "#データの読み込み\n",
    "input_path = \"C:/statistics/data/market_data/original_data/us_interest_rate.csv\"\n",
    "read_data = pd.read_csv(input_path)\n",
    "\n",
    "#dateを作成\n",
    "temp = read_data[\"Time Period\"].str.split(\"/\")\n",
    "joint_date = np.array(np.repeat(\"\", temp.shape[0]), dtype=\"U4\")\n",
    "for i in range(temp.shape[0]):\n",
    "    for j in range(1, 3):\n",
    "        if len(temp[i][j])==1:\n",
    "            temp[i][j] = \"0\" + temp[i][j]\n",
    "    joint_date[i] = temp[i][1] + temp[i][2]\n",
    "    \n",
    "#データの書き出し\n",
    "read_data[\"Time Period\"] = (read_data[\"Time Period\"].str.replace(\"/\", \"\").str[:4] + joint_date).astype(\"int\")\n",
    "read_data = read_data.rename(columns={\"Time Period\": \"date\"})\n",
    "\n",
    "#データを書き出し\n",
    "out = \"C:/statistics/data/market_data/us_interest_rate.csv\"\n",
    "read_data.to_csv(out, index=None)"
   ]
  },
  {
   "cell_type": "code",
   "execution_count": 7,
   "metadata": {},
   "outputs": [],
   "source": [
    "##WTI原油先物の西暦をint型に変換\n",
    "#データの読み込み\n",
    "input_path = \"C:/statistics/data/market_data/original_data/wti_market_price.csv\"\n",
    "read_data = pd.read_csv(input_path)\n",
    "\n",
    "#dateを作成\n",
    "temp = read_data[\"Day\"].str.split(\"/\")\n",
    "joint_date = np.array(np.repeat(\"\", temp.shape[0]), dtype=\"U8\")\n",
    "for i in range(temp.shape[0]):\n",
    "    if len(temp[i][1])==1:\n",
    "        temp[i][1] = \"0\" + temp[i][1]\n",
    "    joint_date[i] = temp[i][2] + temp[i][0] + temp[i][1]\n",
    "    \n",
    "read_data[\"Day\"] = joint_date\n",
    "read_data = read_data.rename(columns={\"Day\": \"date\"})\n",
    "\n",
    "#データを書き出し\n",
    "out = \"C:/statistics/data/market_data/wti_market_price.csv\"\n",
    "read_data.to_csv(out, index=None)"
   ]
  },
  {
   "cell_type": "code",
   "execution_count": 44,
   "metadata": {},
   "outputs": [],
   "source": [
    "##ダウ平均株価の西暦をint型に変換\n",
    "#データの読み込み\n",
    "input_path = \"C:/statistics/data/market_data/original_data/dj_price.csv\"\n",
    "read_data = pd.read_csv(input_path)\n",
    "\n",
    "#dateを作成\n",
    "read_data = read_data.rename(columns={\"Date\": \"date\"})\n",
    "temp = read_data[\"date\"].str.split(\"/\")\n",
    "joint_data = np.array(np.repeat(\"\", temp.shape[0]), dtype=\"U8\")\n",
    "for i in range(temp.shape[0]):\n",
    "    joint_data[i] = \"20\" + temp[i][2] + temp[i][0] + temp[i][1]\n",
    "read_data[\"date\"] = joint_data\n",
    "read_data = read_data.sort_values([\"date\"], ascending=True)\n",
    "read_data.columns = [\"date\", \"Open\", \"High\", \"Low\", \"Close\"]\n",
    "\n",
    "#データの書き出し\n",
    "out = \"C:/statistics/data/market_data/dj_price.csv\"\n",
    "read_data.to_csv(out, index=None)"
   ]
  },
  {
   "cell_type": "code",
   "execution_count": 43,
   "metadata": {},
   "outputs": [
    {
     "data": {
      "text/plain": [
       "Index(['date', ' Open', ' High', ' Low', ' Close'], dtype='object')"
      ]
     },
     "execution_count": 43,
     "metadata": {},
     "output_type": "execute_result"
    }
   ],
   "source": []
  },
  {
   "cell_type": "code",
   "execution_count": 20,
   "metadata": {
    "scrolled": true
   },
   "outputs": [
    {
     "ename": "ValueError",
     "evalue": "invalid literal for int() with base 10: '04/22/19'",
     "output_type": "error",
     "traceback": [
      "\u001b[1;31m---------------------------------------------------------------------------\u001b[0m",
      "\u001b[1;31mValueError\u001b[0m                                Traceback (most recent call last)",
      "\u001b[1;32m<ipython-input-20-69bfafba5cca>\u001b[0m in \u001b[0;36m<module>\u001b[1;34m\u001b[0m\n\u001b[0;32m      6\u001b[0m \u001b[1;31m#データの書き出し\u001b[0m\u001b[1;33m\u001b[0m\u001b[1;33m\u001b[0m\u001b[1;33m\u001b[0m\u001b[0m\n\u001b[0;32m      7\u001b[0m \u001b[0mread_data\u001b[0m \u001b[1;33m=\u001b[0m \u001b[0mread_data\u001b[0m\u001b[1;33m.\u001b[0m\u001b[0mrename\u001b[0m\u001b[1;33m(\u001b[0m\u001b[0mcolumns\u001b[0m\u001b[1;33m=\u001b[0m\u001b[1;33m{\u001b[0m\u001b[1;34m\"Date\"\u001b[0m\u001b[1;33m:\u001b[0m \u001b[1;34m\"date\"\u001b[0m\u001b[1;33m}\u001b[0m\u001b[1;33m)\u001b[0m\u001b[1;33m\u001b[0m\u001b[1;33m\u001b[0m\u001b[0m\n\u001b[1;32m----> 8\u001b[1;33m \u001b[0mread_data\u001b[0m\u001b[1;33m[\u001b[0m\u001b[1;34m\"date\"\u001b[0m\u001b[1;33m]\u001b[0m \u001b[1;33m=\u001b[0m \u001b[0mread_data\u001b[0m\u001b[1;33m[\u001b[0m\u001b[1;34m\"date\"\u001b[0m\u001b[1;33m]\u001b[0m\u001b[1;33m.\u001b[0m\u001b[0mstr\u001b[0m\u001b[1;33m.\u001b[0m\u001b[0mreplace\u001b[0m\u001b[1;33m(\u001b[0m\u001b[1;34m\"-\"\u001b[0m\u001b[1;33m,\u001b[0m \u001b[1;34m\"\"\u001b[0m\u001b[1;33m)\u001b[0m\u001b[1;33m.\u001b[0m\u001b[0mastype\u001b[0m\u001b[1;33m(\u001b[0m\u001b[1;34m\"int\"\u001b[0m\u001b[1;33m)\u001b[0m\u001b[1;33m\u001b[0m\u001b[1;33m\u001b[0m\u001b[0m\n\u001b[0m\u001b[0;32m      9\u001b[0m \u001b[0mout\u001b[0m \u001b[1;33m=\u001b[0m \u001b[1;34m\"C:/statistics/data/market_data/dj_price.csv\"\u001b[0m\u001b[1;33m\u001b[0m\u001b[1;33m\u001b[0m\u001b[0m\n\u001b[0;32m     10\u001b[0m \u001b[0mread_data\u001b[0m\u001b[1;33m.\u001b[0m\u001b[0mto_csv\u001b[0m\u001b[1;33m(\u001b[0m\u001b[0mout\u001b[0m\u001b[1;33m,\u001b[0m \u001b[0mindex\u001b[0m\u001b[1;33m=\u001b[0m\u001b[1;32mNone\u001b[0m\u001b[1;33m)\u001b[0m\u001b[1;33m\u001b[0m\u001b[1;33m\u001b[0m\u001b[0m\n",
      "\u001b[1;32mC:\\statistics\\anaconda\\lib\\site-packages\\pandas\\util\\_decorators.py\u001b[0m in \u001b[0;36mwrapper\u001b[1;34m(*args, **kwargs)\u001b[0m\n\u001b[0;32m    176\u001b[0m                 \u001b[1;32melse\u001b[0m\u001b[1;33m:\u001b[0m\u001b[1;33m\u001b[0m\u001b[1;33m\u001b[0m\u001b[0m\n\u001b[0;32m    177\u001b[0m                     \u001b[0mkwargs\u001b[0m\u001b[1;33m[\u001b[0m\u001b[0mnew_arg_name\u001b[0m\u001b[1;33m]\u001b[0m \u001b[1;33m=\u001b[0m \u001b[0mnew_arg_value\u001b[0m\u001b[1;33m\u001b[0m\u001b[1;33m\u001b[0m\u001b[0m\n\u001b[1;32m--> 178\u001b[1;33m             \u001b[1;32mreturn\u001b[0m \u001b[0mfunc\u001b[0m\u001b[1;33m(\u001b[0m\u001b[1;33m*\u001b[0m\u001b[0margs\u001b[0m\u001b[1;33m,\u001b[0m \u001b[1;33m**\u001b[0m\u001b[0mkwargs\u001b[0m\u001b[1;33m)\u001b[0m\u001b[1;33m\u001b[0m\u001b[1;33m\u001b[0m\u001b[0m\n\u001b[0m\u001b[0;32m    179\u001b[0m         \u001b[1;32mreturn\u001b[0m \u001b[0mwrapper\u001b[0m\u001b[1;33m\u001b[0m\u001b[1;33m\u001b[0m\u001b[0m\n\u001b[0;32m    180\u001b[0m     \u001b[1;32mreturn\u001b[0m \u001b[0m_deprecate_kwarg\u001b[0m\u001b[1;33m\u001b[0m\u001b[1;33m\u001b[0m\u001b[0m\n",
      "\u001b[1;32mC:\\statistics\\anaconda\\lib\\site-packages\\pandas\\core\\generic.py\u001b[0m in \u001b[0;36mastype\u001b[1;34m(self, dtype, copy, errors, **kwargs)\u001b[0m\n\u001b[0;32m   4999\u001b[0m             \u001b[1;31m# else, only a single dtype is given\u001b[0m\u001b[1;33m\u001b[0m\u001b[1;33m\u001b[0m\u001b[1;33m\u001b[0m\u001b[0m\n\u001b[0;32m   5000\u001b[0m             new_data = self._data.astype(dtype=dtype, copy=copy, errors=errors,\n\u001b[1;32m-> 5001\u001b[1;33m                                          **kwargs)\n\u001b[0m\u001b[0;32m   5002\u001b[0m             \u001b[1;32mreturn\u001b[0m \u001b[0mself\u001b[0m\u001b[1;33m.\u001b[0m\u001b[0m_constructor\u001b[0m\u001b[1;33m(\u001b[0m\u001b[0mnew_data\u001b[0m\u001b[1;33m)\u001b[0m\u001b[1;33m.\u001b[0m\u001b[0m__finalize__\u001b[0m\u001b[1;33m(\u001b[0m\u001b[0mself\u001b[0m\u001b[1;33m)\u001b[0m\u001b[1;33m\u001b[0m\u001b[1;33m\u001b[0m\u001b[0m\n\u001b[0;32m   5003\u001b[0m \u001b[1;33m\u001b[0m\u001b[0m\n",
      "\u001b[1;32mC:\\statistics\\anaconda\\lib\\site-packages\\pandas\\core\\internals.py\u001b[0m in \u001b[0;36mastype\u001b[1;34m(self, dtype, **kwargs)\u001b[0m\n\u001b[0;32m   3712\u001b[0m \u001b[1;33m\u001b[0m\u001b[0m\n\u001b[0;32m   3713\u001b[0m     \u001b[1;32mdef\u001b[0m \u001b[0mastype\u001b[0m\u001b[1;33m(\u001b[0m\u001b[0mself\u001b[0m\u001b[1;33m,\u001b[0m \u001b[0mdtype\u001b[0m\u001b[1;33m,\u001b[0m \u001b[1;33m**\u001b[0m\u001b[0mkwargs\u001b[0m\u001b[1;33m)\u001b[0m\u001b[1;33m:\u001b[0m\u001b[1;33m\u001b[0m\u001b[1;33m\u001b[0m\u001b[0m\n\u001b[1;32m-> 3714\u001b[1;33m         \u001b[1;32mreturn\u001b[0m \u001b[0mself\u001b[0m\u001b[1;33m.\u001b[0m\u001b[0mapply\u001b[0m\u001b[1;33m(\u001b[0m\u001b[1;34m'astype'\u001b[0m\u001b[1;33m,\u001b[0m \u001b[0mdtype\u001b[0m\u001b[1;33m=\u001b[0m\u001b[0mdtype\u001b[0m\u001b[1;33m,\u001b[0m \u001b[1;33m**\u001b[0m\u001b[0mkwargs\u001b[0m\u001b[1;33m)\u001b[0m\u001b[1;33m\u001b[0m\u001b[1;33m\u001b[0m\u001b[0m\n\u001b[0m\u001b[0;32m   3715\u001b[0m \u001b[1;33m\u001b[0m\u001b[0m\n\u001b[0;32m   3716\u001b[0m     \u001b[1;32mdef\u001b[0m \u001b[0mconvert\u001b[0m\u001b[1;33m(\u001b[0m\u001b[0mself\u001b[0m\u001b[1;33m,\u001b[0m \u001b[1;33m**\u001b[0m\u001b[0mkwargs\u001b[0m\u001b[1;33m)\u001b[0m\u001b[1;33m:\u001b[0m\u001b[1;33m\u001b[0m\u001b[1;33m\u001b[0m\u001b[0m\n",
      "\u001b[1;32mC:\\statistics\\anaconda\\lib\\site-packages\\pandas\\core\\internals.py\u001b[0m in \u001b[0;36mapply\u001b[1;34m(self, f, axes, filter, do_integrity_check, consolidate, **kwargs)\u001b[0m\n\u001b[0;32m   3579\u001b[0m \u001b[1;33m\u001b[0m\u001b[0m\n\u001b[0;32m   3580\u001b[0m             \u001b[0mkwargs\u001b[0m\u001b[1;33m[\u001b[0m\u001b[1;34m'mgr'\u001b[0m\u001b[1;33m]\u001b[0m \u001b[1;33m=\u001b[0m \u001b[0mself\u001b[0m\u001b[1;33m\u001b[0m\u001b[1;33m\u001b[0m\u001b[0m\n\u001b[1;32m-> 3581\u001b[1;33m             \u001b[0mapplied\u001b[0m \u001b[1;33m=\u001b[0m \u001b[0mgetattr\u001b[0m\u001b[1;33m(\u001b[0m\u001b[0mb\u001b[0m\u001b[1;33m,\u001b[0m \u001b[0mf\u001b[0m\u001b[1;33m)\u001b[0m\u001b[1;33m(\u001b[0m\u001b[1;33m**\u001b[0m\u001b[0mkwargs\u001b[0m\u001b[1;33m)\u001b[0m\u001b[1;33m\u001b[0m\u001b[1;33m\u001b[0m\u001b[0m\n\u001b[0m\u001b[0;32m   3582\u001b[0m             \u001b[0mresult_blocks\u001b[0m \u001b[1;33m=\u001b[0m \u001b[0m_extend_blocks\u001b[0m\u001b[1;33m(\u001b[0m\u001b[0mapplied\u001b[0m\u001b[1;33m,\u001b[0m \u001b[0mresult_blocks\u001b[0m\u001b[1;33m)\u001b[0m\u001b[1;33m\u001b[0m\u001b[1;33m\u001b[0m\u001b[0m\n\u001b[0;32m   3583\u001b[0m \u001b[1;33m\u001b[0m\u001b[0m\n",
      "\u001b[1;32mC:\\statistics\\anaconda\\lib\\site-packages\\pandas\\core\\internals.py\u001b[0m in \u001b[0;36mastype\u001b[1;34m(self, dtype, copy, errors, values, **kwargs)\u001b[0m\n\u001b[0;32m    573\u001b[0m     \u001b[1;32mdef\u001b[0m \u001b[0mastype\u001b[0m\u001b[1;33m(\u001b[0m\u001b[0mself\u001b[0m\u001b[1;33m,\u001b[0m \u001b[0mdtype\u001b[0m\u001b[1;33m,\u001b[0m \u001b[0mcopy\u001b[0m\u001b[1;33m=\u001b[0m\u001b[1;32mFalse\u001b[0m\u001b[1;33m,\u001b[0m \u001b[0merrors\u001b[0m\u001b[1;33m=\u001b[0m\u001b[1;34m'raise'\u001b[0m\u001b[1;33m,\u001b[0m \u001b[0mvalues\u001b[0m\u001b[1;33m=\u001b[0m\u001b[1;32mNone\u001b[0m\u001b[1;33m,\u001b[0m \u001b[1;33m**\u001b[0m\u001b[0mkwargs\u001b[0m\u001b[1;33m)\u001b[0m\u001b[1;33m:\u001b[0m\u001b[1;33m\u001b[0m\u001b[1;33m\u001b[0m\u001b[0m\n\u001b[0;32m    574\u001b[0m         return self._astype(dtype, copy=copy, errors=errors, values=values,\n\u001b[1;32m--> 575\u001b[1;33m                             **kwargs)\n\u001b[0m\u001b[0;32m    576\u001b[0m \u001b[1;33m\u001b[0m\u001b[0m\n\u001b[0;32m    577\u001b[0m     def _astype(self, dtype, copy=False, errors='raise', values=None,\n",
      "\u001b[1;32mC:\\statistics\\anaconda\\lib\\site-packages\\pandas\\core\\internals.py\u001b[0m in \u001b[0;36m_astype\u001b[1;34m(self, dtype, copy, errors, values, klass, mgr, **kwargs)\u001b[0m\n\u001b[0;32m    662\u001b[0m \u001b[1;33m\u001b[0m\u001b[0m\n\u001b[0;32m    663\u001b[0m                 \u001b[1;31m# _astype_nansafe works fine with 1-d only\u001b[0m\u001b[1;33m\u001b[0m\u001b[1;33m\u001b[0m\u001b[1;33m\u001b[0m\u001b[0m\n\u001b[1;32m--> 664\u001b[1;33m                 \u001b[0mvalues\u001b[0m \u001b[1;33m=\u001b[0m \u001b[0mastype_nansafe\u001b[0m\u001b[1;33m(\u001b[0m\u001b[0mvalues\u001b[0m\u001b[1;33m.\u001b[0m\u001b[0mravel\u001b[0m\u001b[1;33m(\u001b[0m\u001b[1;33m)\u001b[0m\u001b[1;33m,\u001b[0m \u001b[0mdtype\u001b[0m\u001b[1;33m,\u001b[0m \u001b[0mcopy\u001b[0m\u001b[1;33m=\u001b[0m\u001b[1;32mTrue\u001b[0m\u001b[1;33m)\u001b[0m\u001b[1;33m\u001b[0m\u001b[1;33m\u001b[0m\u001b[0m\n\u001b[0m\u001b[0;32m    665\u001b[0m                 \u001b[0mvalues\u001b[0m \u001b[1;33m=\u001b[0m \u001b[0mvalues\u001b[0m\u001b[1;33m.\u001b[0m\u001b[0mreshape\u001b[0m\u001b[1;33m(\u001b[0m\u001b[0mself\u001b[0m\u001b[1;33m.\u001b[0m\u001b[0mshape\u001b[0m\u001b[1;33m)\u001b[0m\u001b[1;33m\u001b[0m\u001b[1;33m\u001b[0m\u001b[0m\n\u001b[0;32m    666\u001b[0m \u001b[1;33m\u001b[0m\u001b[0m\n",
      "\u001b[1;32mC:\\statistics\\anaconda\\lib\\site-packages\\pandas\\core\\dtypes\\cast.py\u001b[0m in \u001b[0;36mastype_nansafe\u001b[1;34m(arr, dtype, copy)\u001b[0m\n\u001b[0;32m    707\u001b[0m         \u001b[1;31m# work around NumPy brokenness, #1987\u001b[0m\u001b[1;33m\u001b[0m\u001b[1;33m\u001b[0m\u001b[1;33m\u001b[0m\u001b[0m\n\u001b[0;32m    708\u001b[0m         \u001b[1;32mif\u001b[0m \u001b[0mnp\u001b[0m\u001b[1;33m.\u001b[0m\u001b[0missubdtype\u001b[0m\u001b[1;33m(\u001b[0m\u001b[0mdtype\u001b[0m\u001b[1;33m.\u001b[0m\u001b[0mtype\u001b[0m\u001b[1;33m,\u001b[0m \u001b[0mnp\u001b[0m\u001b[1;33m.\u001b[0m\u001b[0minteger\u001b[0m\u001b[1;33m)\u001b[0m\u001b[1;33m:\u001b[0m\u001b[1;33m\u001b[0m\u001b[1;33m\u001b[0m\u001b[0m\n\u001b[1;32m--> 709\u001b[1;33m             \u001b[1;32mreturn\u001b[0m \u001b[0mlib\u001b[0m\u001b[1;33m.\u001b[0m\u001b[0mastype_intsafe\u001b[0m\u001b[1;33m(\u001b[0m\u001b[0marr\u001b[0m\u001b[1;33m.\u001b[0m\u001b[0mravel\u001b[0m\u001b[1;33m(\u001b[0m\u001b[1;33m)\u001b[0m\u001b[1;33m,\u001b[0m \u001b[0mdtype\u001b[0m\u001b[1;33m)\u001b[0m\u001b[1;33m.\u001b[0m\u001b[0mreshape\u001b[0m\u001b[1;33m(\u001b[0m\u001b[0marr\u001b[0m\u001b[1;33m.\u001b[0m\u001b[0mshape\u001b[0m\u001b[1;33m)\u001b[0m\u001b[1;33m\u001b[0m\u001b[1;33m\u001b[0m\u001b[0m\n\u001b[0m\u001b[0;32m    710\u001b[0m \u001b[1;33m\u001b[0m\u001b[0m\n\u001b[0;32m    711\u001b[0m         \u001b[1;31m# if we have a datetime/timedelta array of objects\u001b[0m\u001b[1;33m\u001b[0m\u001b[1;33m\u001b[0m\u001b[1;33m\u001b[0m\u001b[0m\n",
      "\u001b[1;32mpandas\\_libs\\lib.pyx\u001b[0m in \u001b[0;36mpandas._libs.lib.astype_intsafe\u001b[1;34m()\u001b[0m\n",
      "\u001b[1;32mpandas/_libs/src\\util.pxd\u001b[0m in \u001b[0;36mutil.set_value_at_unsafe\u001b[1;34m()\u001b[0m\n",
      "\u001b[1;31mValueError\u001b[0m: invalid literal for int() with base 10: '04/22/19'"
     ]
    }
   ],
   "source": [
    "##ダウ平均株価の西暦をint型に変換\n",
    "#データの読み込み\n",
    "input_path = \"C:/statistics/data/market_data/original_data/dj_price.csv\"\n",
    "read_data = pd.read_csv(input_path)\n",
    "\n",
    "#データの書き出し\n",
    "read_data = read_data.rename(columns={\"Date\": \"date\"})\n",
    "read_data[\"date\"] = read_data[\"date\"].str.replace(\"-\", \"\").astype(\"int\")\n"
   ]
  },
  {
   "cell_type": "code",
   "execution_count": null,
   "metadata": {},
   "outputs": [],
   "source": []
  }
 ],
 "metadata": {
  "kernelspec": {
   "display_name": "Python 3",
   "language": "python",
   "name": "python3"
  },
  "language_info": {
   "codemirror_mode": {
    "name": "ipython",
    "version": 3
   },
   "file_extension": ".py",
   "mimetype": "text/x-python",
   "name": "python",
   "nbconvert_exporter": "python",
   "pygments_lexer": "ipython3",
   "version": "3.7.1"
  }
 },
 "nbformat": 4,
 "nbformat_minor": 2
}
