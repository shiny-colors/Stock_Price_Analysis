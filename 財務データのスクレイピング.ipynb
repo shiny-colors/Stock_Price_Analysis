{
 "cells": [
  {
   "cell_type": "code",
   "execution_count": null,
   "metadata": {},
   "outputs": [],
   "source": [
    "#####財務データのスクレイピング#####\n",
    "from selenium import webdriver\n",
    "from selenium.webdriver.common.keys import Keys\n",
    "from selenium.common.exceptions import NoSuchElementException\n",
    "from sqlalchemy import create_engine\n",
    "from urllib.request import urlopen\n",
    "import pandas as pd\n",
    "import numpy as np\n",
    "import os\n",
    "import time\n",
    "import itertools\n",
    "import MySQLdb as sql\n",
    "import mysql.connector\n",
    "import requests"
   ]
  },
  {
   "cell_type": "code",
   "execution_count": null,
   "metadata": {},
   "outputs": [],
   "source": [
    "##企業データの読み込みとクレンジング\n",
    "#データの読み込み\n",
    "company_info1 = pd.read_csv(\"D:/Statistics/data/stock_price/st-jp/company_info.csv\")\n",
    "index = np.where(np.in1d(company_info1[\"業種\"], np.array([\"ETF\", \"ETN\", \"REIT\", \"カントリーF\", \"インフラF\"]))==False)[0]\n",
    "company_info1 = company_info1.iloc[index]\n",
    "company_info1.index = np.arange(company_info1.shape[0])\n",
    "company_info2 = pd.read_csv(\"D:/Statistics/data/finance_data/stocklist.csv\")\n",
    "company_info2 = company_info2.rename(columns={\"銘柄コード\": \"コード\", \"市場名\": \"取引市場\", \"業種分類\": \"業種\"})\n",
    "index = np.where(np.in1d(company_info2[\"業種\"], np.array([\"REIT銘柄一覧\"]))==False)[0]\n",
    "company_info2 = company_info2.iloc[index]\n",
    "company_info2.index = np.arange(company_info2.shape[0])\n",
    "\n",
    "#データの結合\n",
    "company_info1 = company_info1[[\"コード\", \"銘柄名\", \"取引市場\", \"業種\"]]\n",
    "company_info2 = company_info2[[\"コード\", \"銘柄名\", \"取引市場\", \"業種\"]]\n",
    "company_info = pd.concat((company_info1, company_info2), axis=0)\n",
    "company_info.index = np.arange(company_info.shape[0])\n",
    "\n",
    "#変数を共通化\n",
    "company = company_info[[\"コード\", \"銘柄名\"]].iloc[np.where(company_info[[\"コード\"]].duplicated()==False)[0]]\n",
    "company_info[\"銘柄名\"] = pd.merge(company_info[[\"コード\"]], company, on=\"コード\", how=\"left\")[\"銘柄名\"]\n",
    "market = np.array([['水産・農林業', '卸売業', '建設業', '非鉄金属', '鉱業', '機械', 'サービス業', '金属製品',\n",
    "                      '情報・通信', '食料品', '医薬品', '不動産業', '陸運業', 'その他金融業', '小売業', 'その他製品',\n",
    "                      '繊維製品', '電気機器', 'ガラス・土石製品', '証券業', '輸送用機器', '石油・石炭製品', '化学',\n",
    "                      'パルプ・紙', '精密機器', 'ゴム製品', '鉄鋼', '銀行業', '保険業', '倉庫・運輸関連業', '海運業',\n",
    "                      '空運業', '電気・ガス業'],\n",
    "                   ['水産・農林', '卸売', '建設業', '非鉄金属', '鉱業', '機械', 'サービス', '金属製品',\n",
    "                    '情報通信', '食料品', '医薬品', '不動産', '陸運', 'その他金融', '小売', 'その他製品', \n",
    "                    '繊維製品', '電気機器', 'ガラス土石', '証券・先物', '輸送用機器', '石油・石炭', '化学',\n",
    "                    'パルプ・紙', '精密機器', 'ゴム製品', '鉄鋼', '銀行', '保険', '倉庫・運輸', '海運', \n",
    "                    '空運', '電気・ガス']])\n",
    "industry_vec = np.array(company_info[\"業種\"])\n",
    "for j in range(industry.shape[1]):\n",
    "    index = np.where(industry_vec==industry[0, j])[0]\n",
    "    industry_vec[index] = np.array(industry[1, j], dtype=\"object\")\n",
    "company_info[\"業種\"] = industry_vec\n",
    "market = np.array([['東証1部', 'JQS', 'JQG', 'マザーズ', '東証2部', '福証Q', '名証2部', '札証', '福証',\n",
    "                    '名証1部', '札証A', '名証C', '東証'],\n",
    "                   ['東証1部', '東証JQS', '東証JQG', 'マザーズ', '東証2部', '福岡Q', '名証2部', '札証', \"福証\",\n",
    "                    '名証1部',  '札幌ア', '名古屋セ', '東証']])\n",
    "market_vec = np.array(company_info[\"取引市場\"])\n",
    "for j in range(market.shape[1]):\n",
    "    index = np.where(market_vec==market[0, j])[0]\n",
    "    market_vec[index] = np.array(market[1, j], dtype=\"object\")\n",
    "company_info[\"取引市場\"] = market_vec\n",
    "\n",
    "#重複を削除\n",
    "company_info = company_info.iloc[np.where(company_info[\"コード\"].duplicated()==False)[0]]\n",
    "company_info.index = np.arange(company_info.shape[0])"
   ]
  },
  {
   "cell_type": "code",
   "execution_count": null,
   "metadata": {},
   "outputs": [],
   "source": [
    "##財務データのスクレイピング\n",
    "#データの格納用配列\n",
    "code = np.array(company_info[\"コード\"])\n",
    "n = company_info.shape[0]\n",
    "df_list = [i for i in range(n)]"
   ]
  },
  {
   "cell_type": "code",
   "execution_count": null,
   "metadata": {
    "scrolled": true
   },
   "outputs": [],
   "source": [
    "#証券コードごとにデータを取得\n",
    "for i in range(180, n):\n",
    "    print(i)\n",
    "    \n",
    "    #urlの読み込みと表の取得\n",
    "    url = \"http://ke.kabupro.jp/xbrl/{code}.htm\"\n",
    "    dfs = pd.read_html(url.format(code=code[i]))\n",
    "    if len(dfs) < 4:\n",
    "        continue\n",
    "        \n",
    "    #表のクレンジング\n",
    "    index1 = np.where(dfs[2][0]==\"単位百万円\")[0]\n",
    "    index2 = np.where(dfs[2][0].str.contains(\"データ利用上の注意点\"))[0]\n",
    "    df = dfs[2].iloc[np.arange(index1+1, index2)]\n",
    "    df.index = np.arange(df.shape[0])\n",
    "    df.columns = np.array(dfs[2].iloc[index1]).reshape(-1)\n",
    "    df[\"company\"] = company_info[\"銘柄名\"].iloc[i]\n",
    "    df[\"ticker\"] = company_info[\"コード\"].iloc[i]\n",
    "    df[\"industry\"] = company_info[\"業種\"].iloc[i]\n",
    "    df_list[i] = df"
   ]
  },
  {
   "cell_type": "code",
   "execution_count": null,
   "metadata": {},
   "outputs": [],
   "source": [
    "##財務データのパネルを作成\n",
    "#取得したデータのインデックス\n",
    "exist = np.repeat(0, n)\n",
    "for i in range(n):\n",
    "    exist[i] = type(df_list[i])!=int\n",
    "index = np.where(exist==1)[0]\n",
    "m = index.shape[0]\n",
    "\n",
    "#リストを変換\n",
    "ticker_list = [i for i in range(m)]\n",
    "company_list = [i for i in range(m)]\n",
    "date_list = [i for i in range(m)]\n",
    "finance_list = [i for i in range(m)]\n",
    "for i in range(m):\n",
    "    ticker_list[i] = np.array(df_list[index[i]][\"ticker\"])\n",
    "    company_list[i] = np.array(df_list[index[i]][[\"company\", \"industry\"]])\n",
    "    date_list[i] = np.array(df_list[index[i]][[\"単位百万円\", \"公開/訂正日\"]])\n",
    "    finance_list[i] = np.array(df_list[index[i]].iloc[:, [1, 2, 3]])\n",
    "ticker = np.array(list(itertools.chain(*[ticker_list[i] for i in range(m)])))\n",
    "company = np.array(list(itertools.chain(*[company_list[i] for i in range(m)])))\n",
    "date = np.array(list(itertools.chain(*[date_list[i] for i in range(m)])))\n",
    "finance = np.array(list(itertools.chain(*[finance_list[i] for i in range(m)])))\n",
    "for j in range(finance.shape[1]):\n",
    "    finance[:, j] = pd.Series(finance[:, j]).str.replace(\" \", \"\").str.replace(\",\", \"\")\n",
    "finance = np.array(finance, dtype=\"float\")    "
   ]
  },
  {
   "cell_type": "code",
   "execution_count": null,
   "metadata": {},
   "outputs": [],
   "source": [
    "#データフレームに変換\n",
    "ticker_df = pd.DataFrame({\"ticker\": np.array(ticker, dtype=\"int\")})\n",
    "company_df = pd.DataFrame({\"company\": company[:, 0], \"industry\": company[:, 1]})\n",
    "date_df = pd.DataFrame({\"quarter\": date[:, 0], \"date\": date[:, 1]})\n",
    "finance_df = pd.DataFrame({\"sales\": finance[:, 0], \"operating_income\": finance[:, 1], \"net_income\": finance[:, 2]})\n",
    "out_df = pd.concat((ticker_df, company_df, date_df, finance_df), axis=1)"
   ]
  },
  {
   "cell_type": "code",
   "execution_count": null,
   "metadata": {},
   "outputs": [],
   "source": [
    "#データの書き出し\n",
    "out_df.to_csv(\"D:/Statistics/data/finance_data.csv\", index=None)"
   ]
  },
  {
   "cell_type": "code",
   "execution_count": null,
   "metadata": {},
   "outputs": [],
   "source": []
  },
  {
   "cell_type": "code",
   "execution_count": null,
   "metadata": {},
   "outputs": [],
   "source": []
  }
 ],
 "metadata": {
  "kernelspec": {
   "display_name": "Python 3",
   "language": "python",
   "name": "python3"
  },
  "language_info": {
   "codemirror_mode": {
    "name": "ipython",
    "version": 3
   },
   "file_extension": ".py",
   "mimetype": "text/x-python",
   "name": "python",
   "nbconvert_exporter": "python",
   "pygments_lexer": "ipython3",
   "version": "3.6.5"
  }
 },
 "nbformat": 4,
 "nbformat_minor": 2
}
