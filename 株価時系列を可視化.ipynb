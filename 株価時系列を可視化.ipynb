{
 "cells": [
  {
   "cell_type": "markdown",
   "metadata": {},
   "source": [
    "##### 株価時系列の可視化####\n",
    "import numpy as np\n",
    "import pandas as pd\n",
    "import matplotlib.pyplot  as plt\n",
    "import matplotlib\n",
    "import numpy.matlib\n",
    "import scipy.linalg\n",
    "import itertools\n",
    "from scipy import sparse\n",
    "from pandas.tools.plotting import scatter_matrix\n",
    "from numpy.random import *\n",
    "from scipy import optimize\n",
    "from matplotlib.backends.backend_pdf import PdfPages \n",
    "import sys\n",
    "\n",
    "#np.random.seed(98537)"
   ]
  },
  {
   "cell_type": "code",
   "execution_count": null,
   "metadata": {},
   "outputs": [],
   "source": [
    "##データの読み込み\n",
    "panel_data = pd.read_csv(\"D:/Statistics/data/stock_price/stock_panel_data.csv\", index_col=0)\n",
    "company_info = pd.read_csv(\"D:/Statistics/data/stock_price/st-jp/company_info.csv\")\n",
    "date_range = [np.min(panel_data[\"日付\"]), np.max(panel_data[\"日付\"])]"
   ]
  },
  {
   "cell_type": "code",
   "execution_count": null,
   "metadata": {},
   "outputs": [],
   "source": [
    "#株価の推移をプロット\n",
    "i = 0\n",
    "company_info = company_info.iloc[np.array(company_info[\"業種\"]!=\"ETF\")]\n",
    "company_info.index = np.arange(company_info.shape[0])\n",
    "codes = np.array(company_info[\"コード\"])\n",
    "price = panel_data[[\"コード\", \"銘柄名\", \"日付\", \"終値\"]].iloc[np.array(panel_data[[\"コード\"]]==codes[i]).reshape(-1)]\n",
    "price[[\"日付\"]] = pd.to_datetime(price[\"日付\"])\n",
    "\n",
    "df = price.set_index(\"日付\")\n",
    "legend = str(np.array(price[[\"銘柄名\"]].iloc[0:1]).reshape(-1) + \"の株価推移\"); legend = legend[2:len(legend)-2]\n",
    "ax = plt.subplot()\n",
    "ax.plot(df.index, df[\"終値\"])\n",
    "ax.set_xlim(date_range[0], date_range[1])\n",
    "plt.title(legend)\n",
    "plt.show()"
   ]
  },
  {
   "cell_type": "code",
   "execution_count": null,
   "metadata": {},
   "outputs": [],
   "source": [
    "##業界のすべての株価推移をプロット\n",
    "def multi_plot(panel_data, industry, industry_eng, display_n=6, displany_n0=[4, 2]):\n",
    "    #データの抽出と設定\n",
    "    index_sub = np.array(np.where(np.array(panel_data[\"業種\"])==industry)[0], dtype=\"int\")\n",
    "    sub_data = panel_data.iloc[index_sub]\n",
    "    company_name = np.unique(np.array(sub_data[\"コード\"]))\n",
    "    n = company_name.shape[0]\n",
    "\n",
    "    #出力ファイルごとのインデックスを設定\n",
    "    if n < display_n:\n",
    "        display_n = n\n",
    "    out = \"D:\\Statistics\\data/image/{industry_eng}_stock_price{no}.jpg\"\n",
    "    out_n = int(np.round(n / display_n))\n",
    "    max_n = -1\n",
    "    index_list = [i for i in range(out_n)]\n",
    "    for i in range(out_n):    \n",
    "        index_list[i] = np.arange(n)[max_n+1:max_n+display_n+1]\n",
    "        index_list[i] = index_list[i][index_list[i] < n]\n",
    "        max_n = np.max(index_list[i])\n",
    "\n",
    "    #プロットの設定\n",
    "    for i in range(out_n):\n",
    "        get_company = company_name[index_list[i]]\n",
    "        colorlist = [\"r\", \"g\", \"b\", \"c\", \"m\", \"y\", \"k\", \"w\"]\n",
    "        fig = plt.figure(figsize=(20.0, 20.0), dpi=50)\n",
    "\n",
    "        for j in range(get_company.shape[0]):\n",
    "            #プロットするデータの設定\n",
    "            price = sub_data[[\"コード\", \"銘柄名\", \"日付\", \"終値\"]].iloc[np.array(sub_data[\"コード\"]==get_company[j])]\n",
    "            price[[\"日付\"]] = pd.to_datetime(price[\"日付\"])\n",
    "            df = price.set_index(\"日付\")\n",
    "            legend = str(np.array(price[[\"銘柄名\"]].iloc[0:1]).reshape(-1) + \"の株価推移\"); legend = legend[2:len(legend)-2]\n",
    "\n",
    "            #グラフを描画\n",
    "            plt.subplots_adjust(wspace=0.4, hspace=0.65)   #余白を設定\n",
    "            ax = plt.subplot(display_n0[0], display_n0[1], j+1)\n",
    "            ax.plot(df.index, df[\"終値\"])\n",
    "            ax.set_xlim(date_range[0], date_range[1])\n",
    "            plt.setp(ax.get_yticklabels(), fontsize=12.5)\n",
    "            plt.setp(ax.get_xticklabels(), rotation=40, fontsize=12.5)\n",
    "            plt.title(legend, fontsize=20)\n",
    "        fig.tight_layout()\n",
    "        plt.savefig(out.format(industry_eng=industry_eng, no=i))"
   ]
  },
  {
   "cell_type": "code",
   "execution_count": null,
   "metadata": {},
   "outputs": [],
   "source": [
    "#すべての業界の株価推移をすべてプロット\n",
    "print(pd.unique(panel_data[\"業種\"]))\n",
    "industry_list = pd.unique(panel_data[\"業種\"])\n",
    "display_n = 10\n",
    "display_n0 = [5, 2]\n",
    "for i in range(len(industry_list)):\n",
    "    print(industry_list[i])\n",
    "    multi_plot(panel_data, industry_list[i], industry_list[i], display_n=10, displany_n0=[5, 2])"
   ]
  },
  {
   "cell_type": "code",
   "execution_count": null,
   "metadata": {},
   "outputs": [],
   "source": []
  },
  {
   "cell_type": "code",
   "execution_count": null,
   "metadata": {},
   "outputs": [],
   "source": []
  }
 ],
 "metadata": {
  "kernelspec": {
   "display_name": "Python 3",
   "language": "python",
   "name": "python3"
  },
  "language_info": {
   "codemirror_mode": {
    "name": "ipython",
    "version": 3
   },
   "file_extension": ".py",
   "mimetype": "text/x-python",
   "name": "python",
   "nbconvert_exporter": "python",
   "pygments_lexer": "ipython3",
   "version": "3.6.5"
  }
 },
 "nbformat": 4,
 "nbformat_minor": 2
}
