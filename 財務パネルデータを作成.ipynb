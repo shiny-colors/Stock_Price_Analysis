{
 "cells": [
  {
   "cell_type": "code",
   "execution_count": 1,
   "metadata": {},
   "outputs": [],
   "source": [
    "####財務パネルデータを作成####\n",
    "import numpy as np\n",
    "import pandas as pd\n",
    "import matplotlib.pyplot  as plt\n",
    "import numpy.matlib\n",
    "import scipy.linalg\n",
    "import itertools\n",
    "import seaborn as sns\n",
    "import gc\n",
    "from scipy import sparse\n",
    "from scipy.stats import norm\n",
    "from pandas.tools.plotting import scatter_matrix\n",
    "from numpy.random import *\n",
    "from scipy import optimize\n",
    "\n",
    "#np.random.seed(98537)"
   ]
  },
  {
   "cell_type": "code",
   "execution_count": 2,
   "metadata": {},
   "outputs": [],
   "source": [
    "#データの読み込み\n",
    "company = pd.read_csv(\"D:/Statistics/data/finance_data/stocklist.csv\")\n",
    "finance_data1 = pd.read_csv(\"D:/Statistics/data/finance_data/finance_data.csv\")\n",
    "finance_data2 = pd.read_csv(\"D:/Statistics/data/finance_data/20190605_finance_data.csv\")\n",
    "\n",
    "#読み込んだデータをクレンジング\n",
    "finance_data2 = finance_data2[[\"証券コード\", \"企業名\", \"会計基準\", \"連結個別\", \"決算期\", \"決算期間\", \"売上高\", \"営業利益\", \"純利益\"]]\n",
    "finance_data2.columns = [\"ticker\", \"company\", \"accounting\", \"single\", \"financial_period\", \"quarter\", \n",
    "                         \"sales\", \"operating_income\", \"net_income\"]\n",
    "finance_data2[\"industry\"] = pd.merge(finance_data2[[\"ticker\"]], company, left_on=\"ticker\", right_on=\"銘柄コード\", how=\"left\")[\"業種分類\"]\n",
    "\n",
    "#財務データを百万円単位にする\n",
    "finance_data2[\"sales\"] = np.array(finance_data2[\"sales\"].str.replace(\"\\,\", \"\"), dtype=\"float\") / 1000000.0\n",
    "finance_data2[\"operating_income\"] = np.array(finance_data2[\"operating_income\"].str.replace(\"\\,\", \"\"), dtype=\"float\") / 1000000.0\n",
    "finance_data2[\"net_income\"] = np.array(finance_data2[\"net_income\"].str.replace(\"\\,\", \"\"), dtype=\"float\") / 1000000.0"
   ]
  },
  {
   "cell_type": "code",
   "execution_count": 3,
   "metadata": {},
   "outputs": [],
   "source": [
    "##finance_data1をクレンジング\n",
    "#会計期間を分割\n",
    "n1 = finance_data1.shape[0]\n",
    "quarter_split = finance_data1[\"quarter\"].str.split(\" \")\n",
    "fixed = np.array(np.repeat(\"\", n1), dtype=\"object\")\n",
    "year1 = np.repeat(0, n1)\n",
    "quarter1 = np.array(np.repeat(\"\", n1), dtype=\"object\")\n",
    "for i in range(n1):\n",
    "    if len(quarter_split[i])==1:\n",
    "        continue\n",
    "    if len(quarter_split[i])==3:\n",
    "        year1[i] = np.array(quarter_split[i][1], dtype=\"int\")\n",
    "        quarter1[i] = quarter_split[i][2]\n",
    "        fixed[i] = quarter_split[i][0]\n",
    "    else:\n",
    "        year1[i] = np.array(quarter_split[i][0], dtype=\"int\")\n",
    "        quarter1[i] = quarter_split[i][1]\n",
    "quarter0 = quarter1.copy()"
   ]
  },
  {
   "cell_type": "code",
   "execution_count": 4,
   "metadata": {},
   "outputs": [],
   "source": [
    "#四半期の名称を変更\n",
    "index = np.where(pd.Series(quarter1).str.contains(\"通期\"))[0]\n",
    "quarter0[index] = \"通期\"\n",
    "quarter0[quarter0==\"第1四\"] = \"第1四半期\"\n",
    "quarter0[quarter0==\"第2四\"] = \"第2四半期\"\n",
    "quarter0[quarter0==\"第3四\"] = \"第3四半期\"\n",
    "quarter0[quarter0==\"第4四\"] = \"第4四半期\""
   ]
  },
  {
   "cell_type": "code",
   "execution_count": 5,
   "metadata": {},
   "outputs": [
    {
     "name": "stderr",
     "output_type": "stream",
     "text": [
      "C:\\Users\\sana\\Anaconda3\\lib\\site-packages\\ipykernel_launcher.py:3: SettingWithCopyWarning: \n",
      "A value is trying to be set on a copy of a slice from a DataFrame.\n",
      "Try using .loc[row_indexer,col_indexer] = value instead\n",
      "\n",
      "See the caveats in the documentation: http://pandas.pydata.org/pandas-docs/stable/indexing.html#indexing-view-versus-copy\n",
      "  This is separate from the ipykernel package so we can avoid doing imports until\n"
     ]
    }
   ],
   "source": [
    "#会計期間を格納\n",
    "finance_df1 = finance_data1[[\"ticker\", \"company\", \"industry\", \"sales\", \"operating_income\", \"net_income\"]]\n",
    "finance_df1[\"year\"] = year1\n",
    "finance_df1[\"quarter\"] = quarter0"
   ]
  },
  {
   "cell_type": "code",
   "execution_count": 6,
   "metadata": {},
   "outputs": [
    {
     "name": "stderr",
     "output_type": "stream",
     "text": [
      "C:\\Users\\sana\\Anaconda3\\lib\\site-packages\\ipykernel_launcher.py:3: SettingWithCopyWarning: \n",
      "A value is trying to be set on a copy of a slice from a DataFrame.\n",
      "Try using .loc[row_indexer,col_indexer] = value instead\n",
      "\n",
      "See the caveats in the documentation: http://pandas.pydata.org/pandas-docs/stable/indexing.html#indexing-view-versus-copy\n",
      "  This is separate from the ipykernel package so we can avoid doing imports until\n"
     ]
    }
   ],
   "source": [
    "#業績予想をユニークにする\n",
    "ticker = finance_df1[[\"ticker\"]]\n",
    "ticker[\"fixed\"] = fixed\n",
    "index1 = np.where(ticker[\"fixed\"]!=\"\")[0]\n",
    "index2 = np.where(ticker[\"fixed\"]==\"\")[0]\n",
    "index = np.sort(np.append(index1[np.where(ticker[\"ticker\"].iloc[index1].duplicated()==False)[0]], index2))\n",
    "finance_df1 = finance_df1.iloc[index]\n",
    "finance_df1.index = np.arange(finance_df1.shape[0])"
   ]
  },
  {
   "cell_type": "code",
   "execution_count": 7,
   "metadata": {},
   "outputs": [],
   "source": [
    "#決算基準を結合\n",
    "accounting = finance_data2[[\"ticker\", \"accounting\", \"single\"]].iloc[np.where(finance_data2[[\"ticker\"]].duplicated()==False)[0]]\n",
    "accounting.index = np.arange(accounting.shape[0])\n",
    "finance_df1 = pd.merge(finance_df1, accounting, on=\"ticker\", how=\"left\")\n",
    "finance_df1 = finance_df1.iloc[np.where(finance_df1[\"year\"]!=2017)[0]]\n",
    "finance_df1.index = np.arange(finance_df1.shape[0])"
   ]
  },
  {
   "cell_type": "code",
   "execution_count": 8,
   "metadata": {},
   "outputs": [],
   "source": [
    "##finance_data2をクレンジング\n",
    "#会計期間を分割\n",
    "quarter2 = np.array(finance_data2[\"financial_period\"].str[:4], dtype=\"int\")\n",
    "finance_df2 = finance_data2[[\"ticker\", \"company\", \"industry\", \"accounting\", \"single\", \"quarter\", \"sales\", \"operating_income\", \"net_income\"]]\n",
    "finance_df2[\"year\"] = quarter2"
   ]
  },
  {
   "cell_type": "code",
   "execution_count": 9,
   "metadata": {},
   "outputs": [
    {
     "name": "stderr",
     "output_type": "stream",
     "text": [
      "C:\\Users\\sana\\Anaconda3\\lib\\site-packages\\ipykernel_launcher.py:6: SettingWithCopyWarning: \n",
      "A value is trying to be set on a copy of a slice from a DataFrame.\n",
      "Try using .loc[row_indexer,col_indexer] = value instead\n",
      "\n",
      "See the caveats in the documentation: http://pandas.pydata.org/pandas-docs/stable/indexing.html#indexing-view-versus-copy\n",
      "  \n"
     ]
    }
   ],
   "source": [
    "#決算月を結合\n",
    "period1 = finance_data1.iloc[np.where(finance_data1[\"quarter\"].str.contains(\"[0-9]月通期\"))[0]][[\"ticker\", \"quarter\"]]\n",
    "period1[\"period\"] = period1[\"quarter\"].str[5:7]\n",
    "period1.index = np.arange(period1.shape[0])\n",
    "period2 = finance_data2[[\"ticker\", \"financial_period\"]]\n",
    "period2[\"period\"] = finance_data2[\"financial_period\"].str[5:7]\n",
    "period = pd.concat((period1[[\"ticker\", \"period\"]] , period2[[\"ticker\", \"period\"]]), axis=0)\n",
    "period.index = np.arange(period.shape[0])\n",
    "period = period.iloc[np.where(period[\"ticker\"].duplicated()==False)[0]]\n",
    "period.index = np.arange(period.shape[0])\n",
    "finance_df1 = pd.merge(finance_df1, period, on=\"ticker\", how=\"left\")\n",
    "finance_df2 = pd.merge(finance_df2, period, on=\"ticker\", how=\"left\")"
   ]
  },
  {
   "cell_type": "code",
   "execution_count": 10,
   "metadata": {},
   "outputs": [],
   "source": [
    "#データを結合\n",
    "finance_df1[\"flag\"] = 1; finance_df2[\"flag\"] = 0\n",
    "finance_df = pd.concat((finance_df1[[\"ticker\", \"company\", \"industry\", \"accounting\", \"single\", \"period\", \"year\", \"quarter\", \n",
    "                                     \"sales\", \"operating_income\", \"net_income\", \"flag\"]],\n",
    "                        finance_df2[[\"ticker\", \"company\", \"industry\", \"accounting\", \"single\", \"period\", \"year\", \"quarter\", \n",
    "                                     \"sales\", \"operating_income\", \"net_income\", \"flag\"]]), axis=0)\n",
    "finance_df.index = np.arange(finance_df.shape[0])\n",
    "industry = finance_df[[\"ticker\", \"industry\"]].iloc[np.where(finance_df[\"ticker\"].duplicated()==False)[0]]\n",
    "finance_df[\"industry\"] = pd.merge(finance_df[[\"ticker\"]], industry, on=\"ticker\", how=\"left\")[\"industry\"]\n",
    "finance_df.index = np.arange(finance_df.shape[0])\n",
    "industry = finance_df[[\"ticker\", \"industry\"]].iloc[np.where(finance_df[\"ticker\"].duplicated()==False)[0]]\n",
    "finance_df[\"industry\"] = pd.merge(finance_df[[\"ticker\"]], industry, on=\"ticker\", how=\"left\")[\"industry\"]\n",
    "company_name = finance_df[[\"ticker\", \"company\"]].iloc[np.where(finance_df[\"ticker\"].duplicated()==False)[0]]\n",
    "finance_df[\"company\"] = pd.merge(finance_df[[\"ticker\"]], company_name, on=\"ticker\", how=\"left\")[\"company\"]\n",
    "finance_df = finance_df.sort_values(by=[\"ticker\", \"year\", \"quarter\", \"flag\"])\n",
    "finance_df.index = np.arange(finance_df.shape[0])"
   ]
  },
  {
   "cell_type": "code",
   "execution_count": 12,
   "metadata": {},
   "outputs": [],
   "source": [
    "#重複を削除\n",
    "finance_df = finance_df.iloc[np.where(finance_df[[\"ticker\", \"single\", \"year\", \"quarter\"]].duplicated()==False)[0]]\n",
    "finance_df.index = np.arange(finance_df.shape[0])"
   ]
  },
  {
   "cell_type": "code",
   "execution_count": 13,
   "metadata": {},
   "outputs": [],
   "source": [
    "#データの書き出し\n",
    "finance_df.to_csv(\"D:/Statistics/data/finance_data/finance_panel_data.csv\", index=None)"
   ]
  },
  {
   "cell_type": "code",
   "execution_count": null,
   "metadata": {},
   "outputs": [],
   "source": []
  }
 ],
 "metadata": {
  "kernelspec": {
   "display_name": "Python 3",
   "language": "python",
   "name": "python3"
  },
  "language_info": {
   "codemirror_mode": {
    "name": "ipython",
    "version": 3
   },
   "file_extension": ".py",
   "mimetype": "text/x-python",
   "name": "python",
   "nbconvert_exporter": "python",
   "pygments_lexer": "ipython3",
   "version": "3.6.5"
  }
 },
 "nbformat": 4,
 "nbformat_minor": 2
}
