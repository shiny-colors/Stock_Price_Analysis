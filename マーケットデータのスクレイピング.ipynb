{
 "cells": [
  {
   "cell_type": "code",
   "execution_count": 1,
   "metadata": {},
   "outputs": [],
   "source": [
    "#####マーケットデータのスクレイピング#####\n",
    "from selenium import webdriver\n",
    "from selenium.webdriver.common.keys import Keys\n",
    "from selenium.common.exceptions import NoSuchElementException\n",
    "from sqlalchemy import create_engine\n",
    "from urllib.request import urlopen\n",
    "import pandas as pd\n",
    "import numpy as np\n",
    "import os\n",
    "import time\n",
    "import itertools\n",
    "import MySQLdb as sql\n",
    "import mysql.connector\n",
    "import requests"
   ]
  },
  {
   "cell_type": "code",
   "execution_count": 25,
   "metadata": {},
   "outputs": [],
   "source": [
    "####為替レートの取得とDBへの保存####\n",
    "##為替レートのクレンジング\n",
    "#為替レートを取得\n",
    "exchange_df = pd.read_csv(\"https://www.mizuhobank.co.jp/market/csv/ref.csv\", encoding=\"Shift-Jis\", header=2)\n",
    "exchange_df.columns = [\"date\", \"USD1\", \"GBP1\", \"EUR1\", \"CAD1\", \"AUD1\", \"NZD1\", \"CNH1\", \"HKD1\", \"SGD1\", \"CHF1\", \"NOK1\", \"SEK1\", \n",
    "                       \"USD2\", \"GBP2\", \"EUR2\", \"CAD2\", \"AUD2\", \"NZD2\", \"CNH2\"]\n",
    "\n",
    "#文字列型を数値型に変更\n",
    "columns = [\"USD1\", \"GBP1\", \"EUR1\", \"CAD1\", \"AUD1\", \"NZD1\", \"CNH1\", \"HKD1\", \"SGD1\", \"CHF1\", \"NOK1\", \"SEK1\", \n",
    "           \"USD2\", \"GBP2\", \"EUR2\", \"CAD2\", \"AUD2\", \"NZD2\", \"CNH2\"]\n",
    "for j in range(len(columns)):\n",
    "    if exchange_df.iloc[:, j+1].dtype==\"float64\":\n",
    "        exchange_df[columns[j]] = exchange_df[columns[j]].astype(\"float16\")\n",
    "    else:\n",
    "        exchange_df[columns[j]] = exchange_df[columns[j]].astype(\"str\").replace(\"*****\", \"NaN\").astype(\"float16\")\n",
    "        \n",
    "#日付の形式を変更\n",
    "target_date = exchange_df[\"date\"]\n",
    "date = np.array(np.repeat(\"\", target_date.shape[0]), dtype=\"U10\")\n",
    "temp_date = target_date.str.split(\"/\")\n",
    "for i in range(temp_date.shape[0]):\n",
    "    for j in range(1, 3):\n",
    "        if len(temp_date[i][j])==1:\n",
    "            temp_date[i][j] = \"0\" + temp_date[i][j]\n",
    "    date[i] = temp_date[i][0] + \"-\" + temp_date[i][1] + \"-\" + temp_date[i][2]\n",
    "exchange_df[\"date\"] = date\n",
    "\n",
    "\n",
    "##DBの作成とデータの格納\n",
    "#DBを作成して、適当なデータをMySQLに格納\n",
    "password = open(\"password.txt\").read()\n",
    "connect = sql.connect(db=\"economic_indicators\", user=\"root\", passwd=password, host=\"localhost\", charset=\"utf8mb4\")\n",
    "c = connect.cursor()   #カーソルを取得\n",
    "\n",
    "#新しいテーブルを作成\n",
    "c.execute(\"DROP TABLE IF EXISTS exchange_rate_log\")   #テーブルがある場合、テーブルを削除\n",
    "c.execute(\"CREATE TABLE exchange_rate_log\\\n",
    "          (\\\n",
    "            date varchar(10),\\\n",
    "            USD1 float(5, 5),\\\n",
    "            GBP1 float(5, 5),\\\n",
    "            EUR1 float(5, 5),\\\n",
    "            CAD1 float(5, 5),\\\n",
    "            AUD1 float(5, 5),\\\n",
    "            NZD1 float(5, 5),\\\n",
    "            CNH1 float(5, 5),\\\n",
    "            HKD1 float(5, 5),\\\n",
    "            SGD1 float(5, 5),\\\n",
    "            CHF1 float(5, 5),\\\n",
    "            NOK1 float(5, 5),\\\n",
    "            SEK1 float(5, 5),\\\n",
    "            USD2 float(5, 5),\\\n",
    "            GBP2 float(5, 5),\\\n",
    "            EUR2 float(5, 5),\\\n",
    "            CAD2 float(5, 5),\\\n",
    "            AUD2 float(5, 5),\\\n",
    "            NZD2 float(5, 5),\\\n",
    "            CNH2 float(5, 5))\")\n",
    "\n",
    "#DBに接続\n",
    "db_settings = {\n",
    "    \"host\": \"localhost\",\n",
    "    \"database\": \"economic_indicators\",\n",
    "    \"user\": \"root\",\n",
    "    \"password\": password,\n",
    "    \"port\": 3306\n",
    "}\n",
    "con = mysql.connector.connect(**db_settings)\n",
    "engine = create_engine('mysql://{user}:{password}@{host}:{port}/{database}'.format(**db_settings))\n",
    "\n",
    "#DBに格納\n",
    "exchange_df.to_sql(\"exchange_rate_log\", engine, index=False, if_exists=\"replace\")"
   ]
  },
  {
   "cell_type": "code",
   "execution_count": 20,
   "metadata": {
    "scrolled": true
   },
   "outputs": [],
   "source": [
    "####国内の株価指標の取得とDBへの格納####\n"
   ]
  },
  {
   "cell_type": "code",
   "execution_count": 22,
   "metadata": {},
   "outputs": [],
   "source": []
  },
  {
   "cell_type": "code",
   "execution_count": 23,
   "metadata": {},
   "outputs": [],
   "source": []
  },
  {
   "cell_type": "code",
   "execution_count": null,
   "metadata": {},
   "outputs": [],
   "source": []
  }
 ],
 "metadata": {
  "kernelspec": {
   "display_name": "Python 3",
   "language": "python",
   "name": "python3"
  },
  "language_info": {
   "codemirror_mode": {
    "name": "ipython",
    "version": 3
   },
   "file_extension": ".py",
   "mimetype": "text/x-python",
   "name": "python",
   "nbconvert_exporter": "python",
   "pygments_lexer": "ipython3",
   "version": "3.6.5"
  }
 },
 "nbformat": 4,
 "nbformat_minor": 2
}
