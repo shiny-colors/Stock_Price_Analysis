{
 "cells": [
  {
   "cell_type": "code",
   "execution_count": 16,
   "metadata": {},
   "outputs": [],
   "source": [
    "####画像をPDFに変換####\n",
    "import numpy as np\n",
    "import pandas as pd\n",
    "import glob\n",
    "import os\n",
    "from reportlab.pdfgen import canvas\n",
    "from reportlab.lib.pagesizes import A4\n",
    "from PIL import Image"
   ]
  },
  {
   "cell_type": "code",
   "execution_count": 17,
   "metadata": {},
   "outputs": [],
   "source": [
    "#データの読み込み\n",
    "company_info = pd.read_csv(\"D:/Statistics/data/stock_price/st-jp/company_info.csv\", index_col=0)\n",
    "industry = np.array(pd.unique(company_info[\"業種\"]))"
   ]
  },
  {
   "cell_type": "code",
   "execution_count": 18,
   "metadata": {},
   "outputs": [],
   "source": [
    "#ディレクトリ名から業種コードを取得\n",
    "filelist = glob.glob(\"D:/Statistics/data/stock_price/individual/*.csv\")\n",
    "industry_no = np.array(np.zeros((len(filelist), 3)), dtype=\"U32\")\n",
    "\n",
    "for j in range(len(filelist)):\n",
    "    tmp = np.array(pd.read_csv(filelist[j].replace(\"\\\\\", \"/\"), \n",
    "                               engine='python', encoding=\"utf-8\")[[\"industry_code\", \"industry_name\"]].iloc[0:1]).reshape(-1)\n",
    "    if tmp[0] < 10:\n",
    "        no = \"0\" + str(tmp[0])\n",
    "    else:\n",
    "        no = str(tmp[0])\n",
    "    industry_no[j, ] = np.array([no, tmp[1], no + \"_\" + tmp[1]])"
   ]
  },
  {
   "cell_type": "code",
   "execution_count": 19,
   "metadata": {},
   "outputs": [],
   "source": [
    "#作業フォルダ内のディレクトリだけを抽出する\n",
    "base_path = r\"D:/Statistics/data/image/\"\n",
    "image_path = glob.glob(\"D:/Statistics/data/image/*\")\n",
    "M = industry.shape[0]"
   ]
  },
  {
   "cell_type": "code",
   "execution_count": 21,
   "metadata": {},
   "outputs": [],
   "source": [
    "##業界ごとに株価推移の画像をpdf化\n",
    "for i in range(M):\n",
    "    #pdfの設定\n",
    "    target = industry_no[i, 1]\n",
    "    target_name = industry_no[i, 2]\n",
    "    output_path = \"D:/Statistics/data/stock_price/individual/\" + target_name + \"/\" + target_name + \"の株価推移.pdf\"\n",
    "    pdf = canvas.Canvas(output_path, pagesize=A4)\n",
    "    pdf.setPageSize((1000, 1000))\n",
    "\n",
    "    #pdf化する画像を選択\n",
    "    df = pd.DataFrame(image_path)[0]\n",
    "    index = np.array(df.str.contains(industry_no[i, 1]))\n",
    "    target_image = np.array(df[index])\n",
    "    n = target_image.shape[0]\n",
    "\n",
    "    #複数の画像を1つのpdfにまとめる\n",
    "    for j in range(n):\n",
    "        pdf.drawInlineImage(Image.open(target_image[j]), 0, 0)\n",
    "        pdf.showPage()\n",
    "    pdf.save()"
   ]
  }
 ],
 "metadata": {
  "kernelspec": {
   "display_name": "Python 3",
   "language": "python",
   "name": "python3"
  },
  "language_info": {
   "codemirror_mode": {
    "name": "ipython",
    "version": 3
   },
   "file_extension": ".py",
   "mimetype": "text/x-python",
   "name": "python",
   "nbconvert_exporter": "python",
   "pygments_lexer": "ipython3",
   "version": "3.6.5"
  }
 },
 "nbformat": 4,
 "nbformat_minor": 2
}
